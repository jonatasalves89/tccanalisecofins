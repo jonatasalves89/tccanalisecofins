{
 "cells": [
  {
   "cell_type": "code",
   "execution_count": null,
   "metadata": {},
   "outputs": [],
   "source": [
    "#IMPORTA AS BIBLIOTECAS NECESSÁRIAS\n",
    "import pandas as pd\n",
    "import requests\n",
    "from bs4 import BeautifulSoup\n",
    "import warnings\n",
    "import re\n",
    "import csv"
   ]
  },
  {
   "cell_type": "code",
   "execution_count": null,
   "metadata": {},
   "outputs": [],
   "source": [
    "#ABRE UMA SESSION PARA CONEXÃO COM O SITE DE CONSULTA DE ACÓRDÃOS DO CARF\n",
    "sessionCarf = requests.Session()\n",
    "urlCarf = \"https://carf.fazenda.gov.br/sincon/public/pages/ConsultarJurisprudencia/consultarJurisprudenciaCarf.jsf\"\n",
    "warnings.filterwarnings('ignore')\n",
    "htmlCarf = sessionCarf.get(urlCarf, verify=False)"
   ]
  },
  {
   "cell_type": "code",
   "execution_count": null,
   "metadata": {},
   "outputs": [],
   "source": [
    "#CRIA UM OBJETO BEAUTIFULSOUP DA PÁGINA\n",
    "soupCarf = BeautifulSoup(htmlCarf.text, 'html.parser')"
   ]
  },
  {
   "cell_type": "code",
   "execution_count": null,
   "metadata": {},
   "outputs": [],
   "source": [
    "#BUSCA O VIEWSTATE ID DA PÁGINA\n",
    "vwIdCarf = soupCarf.find_all(id='javax.faces.ViewState')[0]['value']"
   ]
  },
  {
   "cell_type": "code",
   "execution_count": null,
   "metadata": {},
   "outputs": [],
   "source": [
    "#CRIA DICIONÁRIO DE PARÂMETROS PARA CONSULTA DE ACÓRDÃOS DE COFINS ENTRE 2016 E 2020\n",
    "paramCarf = {\n",
    "    \"consultaJurisprudenciaForm\": \"consultaJurisprudenciaForm\"\n",
    "    , \"dataInicialInputDate\": \"01/2016\"\n",
    "    , \"dataFinalInputDate\": \"12/2020\"\n",
    "    , \"uniqueToken\": \"\"\n",
    "    , \"campo_pesquisa1\": \"1\"\n",
    "    , \"campo_pesquisa2\": \"1\"\n",
    "    , \"campo_pesquisa3\": \"1\"\n",
    "    , \"valor_pesquisa3\": \"cofins\"\n",
    "    , \"AJAXREQUEST\": \"_viewRoot\"\n",
    "    , \"javax.faces.ViewState\": vwIdCarf\n",
    "    , \"j_id51\": \"j_id51\"\n",
    "}"
   ]
  },
  {
   "cell_type": "code",
   "execution_count": null,
   "metadata": {},
   "outputs": [],
   "source": [
    "#EXECUTA A CONSULTA DE ACÓRDÃOS COM BASE NOS PARÂMETROS\n",
    "jsidCarf = sessionCarf.cookies.get_dict()['JSESSIONID']\n",
    "urlCarfJSId = \"https://carf.fazenda.gov.br/sincon/public/pages/ConsultarJurisprudencia/consultarJurisprudenciaCarf.jsf;jsessionid=\" + jsidCarf\n",
    "htmlCarf = requests.post(urlCarfJSId, paramCarf, verify=False)"
   ]
  },
  {
   "cell_type": "code",
   "execution_count": null,
   "metadata": {},
   "outputs": [],
   "source": [
    "#CRIA OBJETO SOUP DA PÁGINA DE RESULTADOS DA CONSULTA\n",
    "soupResultCarf = BeautifulSoup(htmlCarf.text, 'html.parser')\n",
    "vwIdResultCarf = soupResultCarf.find_all(id='javax.faces.ViewState')[0]['value']"
   ]
  },
  {
   "cell_type": "code",
   "execution_count": null,
   "metadata": {},
   "outputs": [],
   "source": [
    "#VERIFICA O NÚMERO DO PÁGINAS DE RESULTADO PARA QUE SEJA ACESSADA UMA POR UMA POSTERIORMENTE\n",
    "tabPags = soupResultCarf.find(id=\"dataScroller_1_table\")\n",
    "mNumPags = re.search(\"Página 1 de ([0-9]+)\", tabPags.text)\n",
    "numPags = int(mNumPags.group(1))"
   ]
  },
  {
   "cell_type": "code",
   "execution_count": null,
   "metadata": {},
   "outputs": [],
   "source": [
    "#CRIA UMA LISTA QUE IRÁ ARMAZENAR OS DADOS COLETADOS DE ACADA ACÓRDÃO\n",
    "listaDadosColetados = []"
   ]
  },
  {
   "cell_type": "code",
   "execution_count": null,
   "metadata": {},
   "outputs": [],
   "source": [
    "#VISITA PÁGINA POR PÁGINA DO RESULTADO DA CONSULTA, ENTRANDO NA PÁGINA DE DETALHAMENTO DE CADA ACÓRDÃO\n",
    "#E EXTRAINDO OS DADOS NECESSÁRIOS, ARMAZENANDO-OS NA LISTA DE DADOS COLETADOS\n",
    "soupPagResult = soupResultCarf\n",
    "vwIdPagResult = vwIdResultCarf\n",
    "\n",
    "numProxAcordao = 0\n",
    "for p in range(numPags):\n",
    "    print(\"Pág \" + str(p + 1) + \" de \" + str(numPags))\n",
    "    \n",
    "    numAcordaosPag = len(soupPagResult.find_all(id = re.compile(\"tblJurisprudencia:[0-9]+:numDecisao\")))\n",
    "    \n",
    "    for a in range(numAcordaosPag):\n",
    "        vwIdPagResult = soupPagResult.find_all(id='javax.faces.ViewState')[0]['value']\n",
    "        paramAcordao = {\n",
    "            \"formAcordaos\": \"formAcordaos\"\n",
    "            , \"uniqueToken\":\"\"\n",
    "            , \"javax.faces.ViewState\": vwIdPagResult\n",
    "            , \"tblJurisprudencia:{}:numDecisao\".format(numProxAcordao): \"tblJurisprudencia:{}:numDecisao\".format(numProxAcordao)\n",
    "        }\n",
    "        \n",
    "        htmlAcordao = requests.post(\"https://carf.fazenda.gov.br/sincon/public/pages/ConsultarJurisprudencia/listaJurisprudenciaCarf.jsf;jsessionid=\" + jsidCarf, paramAcordao, verify=False)\n",
    "        \n",
    "        soupAcordao = BeautifulSoup(htmlAcordao.text, 'html.parser')\n",
    "        vwIdAcordao = soupAcordao.find_all(id='javax.faces.ViewState')[0]['value']\n",
    "        \n",
    "        nomeContribuinte = \"\"\n",
    "        objNomeContribuinte = soupAcordao.find(id=\"formAcordaos:contribuinte\")\n",
    "        if objNomeContribuinte != None:\n",
    "            nomeContribuinte = objNomeContribuinte.text\n",
    "        \n",
    "        tipoRecurso = \"\"\n",
    "        objTipoRecurso = soupAcordao.find(id=\"formAcordaos:labeTipoRecurso\")\n",
    "        if objTipoRecurso != None:\n",
    "            tipoRecurso = objTipoRecurso.parent.find_all(\"span\")[1].text\n",
    "        \n",
    "        dataSessao = \"\"\n",
    "        objDataSessao = soupAcordao.find(id=\"formAcordaos:dataSessao\")\n",
    "        if objDataSessao != None:\n",
    "            dataSessao = objDataSessao.text\n",
    "        \n",
    "        ementa = \"\"\n",
    "        objEmenta = soupAcordao.find(id=\"formAcordaos:ementa\")\n",
    "        if objEmenta != None:\n",
    "            ementas = objEmenta.contents\n",
    "            ementa = \"\".join([str(item) for item in ementas])\n",
    "        \n",
    "        listaDadosAcordaos = [nomeContribuinte, tipoRecurso, dataSessao, ementa]\n",
    "        listaDadosColetados.append(listaDadosAcordaos)\n",
    "        \n",
    "        nameVoltar = soupAcordao.find(value=\"Voltar\")[\"name\"]\n",
    "        paramRetPagResult = {\n",
    "            \"formAcordaos\": \"formAcordaos\"\n",
    "            , \"uniqueToken\":\"\"\n",
    "            , nameVoltar: \"Voltar\"\n",
    "            , \"javax.faces.ViewState\": vwIdAcordao\n",
    "            , \"formAcordaos:_idcl\": \"\"\n",
    "        }\n",
    "        \n",
    "        htmlRetPagResult = requests.post(\"https://carf.fazenda.gov.br/sincon/public/pages/ConsultarJurisprudencia/listaJurisprudencia.jsf;jsessionid=\" + jsidCarf, paramRetPagResult, verify=False)\n",
    "\n",
    "        soupPagResult = BeautifulSoup(htmlRetPagResult.text, 'html.parser')        \n",
    "        vwIdPagResult = soupPagResult.find_all(id='javax.faces.ViewState')[0]['value']\n",
    "        \n",
    "        numProxAcordao = numProxAcordao + 1\n",
    "\n",
    "    paramProxPagResult = {\n",
    "        \"AJAXREQUEST\": \"_viewRoot\",\n",
    "        \"formAcordaos\": \"formAcordaos\",\n",
    "        \"uniqueToken\": \"\",\n",
    "        \"javax.faces.ViewState\": vwIdPagResult,\n",
    "        \"ajaxSingle\": \"dataScroller_2\",\n",
    "        \"dataScroller_2\": \"next\",\n",
    "        \"AJAX:EVENTS_COUNT\": \"1\"\n",
    "    }\n",
    "    \n",
    "    htmlProxPagResult = requests.post(\"https://carf.fazenda.gov.br/sincon/public/pages/ConsultarJurisprudencia/listaJurisprudenciaCarf.jsf;jsessionid=\" + jsidCarf, paramProxPagResult, verify=False)\n",
    "    soupPagResult = BeautifulSoup(htmlProxPagResult.text, 'html.parser')        \n",
    "    vwIdPagResult = soupPagResult.find_all(id='javax.faces.ViewState')[0]['value']"
   ]
  },
  {
   "cell_type": "code",
   "execution_count": null,
   "metadata": {},
   "outputs": [],
   "source": [
    "#CRIA UM DATAFRAME PANDAS A PARTIR DA LISTA DE DADOS COLETADOS, POSTERIORMENTE EXPORTA O DATAFRAME PARA UM ARQUIVO CSV\n",
    "#CRIANDO ENTÃO, O DATASET DE ACÓRDÃOS DE COFINS DO CARF\n",
    "dfDadosColetados = pd.DataFrame(listaDadosColetados, columns=[\"NOME CONTRIBUINTE\", \"TIPO RECURSO\"\n",
    "    , \"DATA SESSAO\", \"EMENTA\"])\n",
    "dfDadosColetados.to_csv('../Dataset CARF COFINS/DADOS ACORDAOS COFINS CARF 2016-2020.csv', index=False, sep=\"#\")"
   ]
  },
  {
   "cell_type": "code",
   "execution_count": null,
   "metadata": {},
   "outputs": [],
   "source": []
  },
  {
   "cell_type": "code",
   "execution_count": null,
   "metadata": {},
   "outputs": [],
   "source": []
  }
 ],
 "metadata": {
  "kernelspec": {
   "display_name": "Python 3",
   "language": "python",
   "name": "python3"
  },
  "language_info": {
   "codemirror_mode": {
    "name": "ipython",
    "version": 3
   },
   "file_extension": ".py",
   "mimetype": "text/x-python",
   "name": "python",
   "nbconvert_exporter": "python",
   "pygments_lexer": "ipython3",
   "version": "3.8.5"
  }
 },
 "nbformat": 4,
 "nbformat_minor": 4
}
