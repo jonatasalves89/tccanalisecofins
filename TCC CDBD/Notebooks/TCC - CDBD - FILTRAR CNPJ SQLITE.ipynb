{
 "cells": [
  {
   "cell_type": "code",
   "execution_count": 1,
   "metadata": {},
   "outputs": [],
   "source": [
    "#IMPORTAÇÃO BIBLIOTECAS\n",
    "import pandas as pd\n",
    "import sqlite3\n",
    "import warnings\n",
    "warnings.filterwarnings('ignore')"
   ]
  },
  {
   "cell_type": "code",
   "execution_count": 2,
   "metadata": {},
   "outputs": [],
   "source": [
    "#LEITURA DO DATASET DE ACORDÃOS DO CARF, OBTIDO ATRAVÉS DO SCRAPER\n",
    "acordaos = pd.read_csv(\"../Dataset CARF COFINS/DADOS ACORDAOS COFINS CARF 2016-2020.csv\", sep=\"#\")"
   ]
  },
  {
   "cell_type": "code",
   "execution_count": 3,
   "metadata": {},
   "outputs": [],
   "source": [
    "#CRIA FUNÇÃO PARA PADRONIZAR NOMES DOS CONTRIBUINTES PARA POSTERIOR JUNÇÃO E FILTRO DE CNPJS\n",
    "def preparaNomeParaJuncao(nome):\n",
    "    if isinstance(nome, float):\n",
    "        print(nome)\n",
    "    nomeJuncao = nome.upper().replace(\n",
    "        \" EM RECUPERACAO JUDICIAL\", \"\"\n",
    "    ).replace(\n",
    "        \" FALIDO EM RECUPERACAO JUDICIAL\", \"\"\n",
    "    ).replace(\n",
    "        \"S.A.\", \"SA\"\n",
    "    ).replace(\n",
    "        \"S/A\", \"SA\"\n",
    "    ).replace(\n",
    "        \"&\", \"E\"\n",
    "    )\n",
    "    \n",
    "    return nomeJuncao"
   ]
  },
  {
   "cell_type": "code",
   "execution_count": 4,
   "metadata": {},
   "outputs": [
    {
     "name": "stdout",
     "output_type": "stream",
     "text": [
      "16087\n",
      "16086\n"
     ]
    }
   ],
   "source": [
    "print(len(acordaos))\n",
    "acordaos.dropna(subset=[\"NOME CONTRIBUINTE\"], inplace=True)\n",
    "print(len(acordaos))"
   ]
  },
  {
   "cell_type": "code",
   "execution_count": 5,
   "metadata": {},
   "outputs": [
    {
     "data": {
      "text/plain": [
       "(4249, 2)"
      ]
     },
     "execution_count": 5,
     "metadata": {},
     "output_type": "execute_result"
    }
   ],
   "source": [
    "#OBTEM DO DATASET DE CNPJS SQL LITE APENAS AS COLUNAS E CNPJS RELACIONADOS AOS ACÓRDÃOS\n",
    "acordaos[\"NOME CONTRIBUINTE JUNCAO\"] = [preparaNomeParaJuncao(nome) for nome in acordaos[\"NOME CONTRIBUINTE\"]]\n",
    "nomesContrib = acordaos[\"NOME CONTRIBUINTE JUNCAO\"].tolist()\n",
    "\n",
    "con = sqlite3.connect(\"../Dataset CNPJ/bd_dados_qsa_cnpj.db\")\n",
    "\n",
    "listQueryFiltraCNPJs = [\n",
    "    \"SELECT razao_social, cnae_fiscal FROM cnpj_dados_cadastrais_pj WHERE \"\n",
    "        , \"identificador_matriz_filial = '1' AND REPLACE(REPLACE(REPLACE(REPLACE(REPLACE(UPPER(razao_social), \"\n",
    "            , \"' EM RECUPERACAO JUDICIAL', '' ),' FALIDO EM RECUPERACAO JUDICIAL', ''),\"\n",
    "                , \"'S.A.', 'SA' ), 'S/A', 'SA'),'&', 'E' ) \"\n",
    "                    , \"IN ({1});\"\n",
    "]\n",
    "\n",
    "queryFiltraCNPJs = \"\".join(listQueryFiltraCNPJs)\n",
    "queryFiltraCNPJs = queryFiltraCNPJs.format(\"?\", \",\".join(\"?\" * len(nomesContrib)))\n",
    "\n",
    "cnpjs = pd.read_sql_query(queryFiltraCNPJs, con, params=nomesContrib)\n",
    "con.close()\n",
    "cnpjs.shape"
   ]
  },
  {
   "cell_type": "code",
   "execution_count": 6,
   "metadata": {},
   "outputs": [],
   "source": [
    "#SALVA O DATASET COM OS DADOS FILTRADOS DE CNPJ\n",
    "cnpjs.to_csv(\"../Dataset CNPJ/DADOS CNPJ.csv\", index=False, sep=\"#\")"
   ]
  }
 ],
 "metadata": {
  "kernelspec": {
   "display_name": "Python 3",
   "language": "python",
   "name": "python3"
  },
  "language_info": {
   "codemirror_mode": {
    "name": "ipython",
    "version": 3
   },
   "file_extension": ".py",
   "mimetype": "text/x-python",
   "name": "python",
   "nbconvert_exporter": "python",
   "pygments_lexer": "ipython3",
   "version": "3.8.5"
  }
 },
 "nbformat": 4,
 "nbformat_minor": 4
}
